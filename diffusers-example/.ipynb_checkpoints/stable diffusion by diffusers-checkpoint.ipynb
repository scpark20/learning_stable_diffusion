{
 "cells": [
  {
   "cell_type": "code",
   "execution_count": 1,
   "id": "07632bed",
   "metadata": {},
   "outputs": [
    {
     "name": "stdout",
     "output_type": "stream",
     "text": [
      "Thu Jun 20 16:04:25 2024       \n",
      "+-----------------------------------------------------------------------------------------+\n",
      "| NVIDIA-SMI 550.54.15              Driver Version: 550.54.15      CUDA Version: 12.4     |\n",
      "|-----------------------------------------+------------------------+----------------------+\n",
      "| GPU  Name                 Persistence-M | Bus-Id          Disp.A | Volatile Uncorr. ECC |\n",
      "| Fan  Temp   Perf          Pwr:Usage/Cap |           Memory-Usage | GPU-Util  Compute M. |\n",
      "|                                         |                        |               MIG M. |\n",
      "|=========================================+========================+======================|\n",
      "|   0  NVIDIA GeForce RTX 4090        Off |   00000000:19:00.0 Off |                  Off |\n",
      "|  0%   47C    P8             30W /  450W |      11MiB /  24564MiB |      0%      Default |\n",
      "|                                         |                        |                  N/A |\n",
      "+-----------------------------------------+------------------------+----------------------+\n",
      "|   1  NVIDIA GeForce RTX 4090        Off |   00000000:68:00.0 Off |                  Off |\n",
      "|  0%   46C    P8             20W /  450W |      28MiB /  24564MiB |      0%      Default |\n",
      "|                                         |                        |                  N/A |\n",
      "+-----------------------------------------+------------------------+----------------------+\n",
      "                                                                                         \n",
      "+-----------------------------------------------------------------------------------------+\n",
      "| Processes:                                                                              |\n",
      "|  GPU   GI   CI        PID   Type   Process name                              GPU Memory |\n",
      "|        ID   ID                                                               Usage      |\n",
      "|=========================================================================================|\n",
      "|    0   N/A  N/A      1276      G   /usr/lib/xorg/Xorg                              4MiB |\n",
      "|    1   N/A  N/A      1276      G   /usr/lib/xorg/Xorg                              9MiB |\n",
      "|    1   N/A  N/A      1521      G   /usr/bin/gnome-shell                            8MiB |\n",
      "+-----------------------------------------------------------------------------------------+\n"
     ]
    }
   ],
   "source": [
    "import os\n",
    "os.environ[\"CUDA_VISIBLE_DEVICES\"]=\"0\"\n",
    "\n",
    "!nvidia-smi"
   ]
  },
  {
   "cell_type": "markdown",
   "id": "e19035a5",
   "metadata": {},
   "source": [
    "### Pipeline"
   ]
  },
  {
   "cell_type": "code",
   "execution_count": null,
   "id": "a139a60a",
   "metadata": {},
   "outputs": [
    {
     "name": "stderr",
     "output_type": "stream",
     "text": [
      "In this conversion only the non-EMA weights are extracted. If you want to instead extract the EMA weights (usually better for inference), please make sure to add the `--extract_ema` flag.\n"
     ]
    }
   ],
   "source": [
    "import torch\n",
    "from diffusers import StableDiffusionPipeline, DDPMScheduler\n",
    "\n",
    "pipe = StableDiffusionPipeline.from_single_file(\"/data/sd_files/stable-diffusion-v1-5/v1-5-pruned.safetensors\",\n",
    "                                               torch_dtype=torch.float16, use_safetensors=True, variant=\"fp16\")\n",
    "\n",
    "# pipe = StableDiffusionPipeline.from_single_file(\"/data/sd_files/checkpoint/beautifulRealistic_v7.safetensors\",\n",
    "#                                                torch_dtype=torch.float16, use_safetensors=True, variant=\"fp16\")\n",
    "\n",
    "pipe.to(\"cuda\")\n",
    "pipe.scheduler = DDPMScheduler.from_config(pipe.scheduler.config)\n",
    "\n",
    "print('done')"
   ]
  },
  {
   "cell_type": "markdown",
   "id": "b00833e7",
   "metadata": {},
   "source": [
    "### Generate Image"
   ]
  },
  {
   "cell_type": "code",
   "execution_count": null,
   "id": "11489c5e",
   "metadata": {},
   "outputs": [],
   "source": [
    "# prompt from https://civitai.com/images/16407281\n",
    "\n",
    "prompt = \"(RAW photo, best quality), (realistic, photo-realistic:1.4), masterpiece, extremely beautiful, extremely detailed, 4k wallpaper, Amazing, finely detail, ultra-detailed, highres, beautiful detailed girl, extremely detailed eyes and face, 1girl, solo, looking at viewer, smile, short hair, bangs, simple background, shirt, black hair, hair ornament, long sleeves, white shirt, upper body, necktie, black eyes, lips, realistic, kooo123, lora CHAEWO\"\n",
    "n_prompt = \"3d, sepia, painting, cartoons, sketch, watercolor, flat color, (worst quality:2), (low quality:2), (normal quality:2),out of focus,ugly,error, bad anatomy, ((monochrome)), (grayscale), deformed eyes, bad face,(worst quality:2), (low quality:2), (normal quality:2), (bad hands :1.8) ng_deepnegative_v1_75t\"\n",
    "\n",
    "images = pipe(prompt=prompt,\n",
    "             negative_prompt=n_prompt,\n",
    "             height=512,\n",
    "             width=512,\n",
    "             num_inference_steps=20,\n",
    "             guidance_scale=7,\n",
    "             num_images_per_prompt=8\n",
    "        ).images\n",
    "\n",
    "import matplotlib.pyplot as plt\n",
    "fig, axs = plt.subplots(2, 4, figsize=(15, 8))\n",
    "for i, ax in enumerate(axs.flatten()):\n",
    "    ax.imshow(images[i])\n",
    "    ax.axis('off')\n",
    "\n",
    "plt.tight_layout()\n",
    "plt.show()"
   ]
  },
  {
   "cell_type": "markdown",
   "id": "9df2e45e",
   "metadata": {},
   "source": [
    "### num_inference_steps의 영향"
   ]
  },
  {
   "cell_type": "code",
   "execution_count": null,
   "id": "d15effbd",
   "metadata": {},
   "outputs": [],
   "source": [
    "# prompt from https://civitai.com/images/16407281\n",
    "\n",
    "prompt = \"(RAW photo, best quality), (realistic, photo-realistic:1.4), masterpiece, extremely beautiful, extremely detailed, 4k wallpaper, Amazing, finely detail, ultra-detailed, highres, beautiful detailed girl, extremely detailed eyes and face, 1girl, solo, looking at viewer, smile, short hair, bangs, simple background, shirt, black hair, hair ornament, long sleeves, white shirt, upper body, necktie, black eyes, lips, realistic, kooo123, lora CHAEWO\"\n",
    "n_prompt = \"3d, sepia, painting, cartoons, sketch, watercolor, flat color, (worst quality:2), (low quality:2), (normal quality:2),out of focus,ugly,error, bad anatomy, ((monochrome)), (grayscale), deformed eyes, bad face,(worst quality:2), (low quality:2), (normal quality:2), (bad hands :1.8) ng_deepnegative_v1_75t\"\n",
    "\n",
    "images = pipe(prompt=prompt,\n",
    "             negative_prompt=n_prompt,\n",
    "             height=512,\n",
    "             width=512,\n",
    "             num_inference_steps=5,\n",
    "             guidance_scale=7,\n",
    "             num_images_per_prompt=8\n",
    "        ).images\n",
    "\n",
    "import matplotlib.pyplot as plt\n",
    "fig, axs = plt.subplots(2, 4, figsize=(15, 8))\n",
    "for i, ax in enumerate(axs.flatten()):\n",
    "    ax.imshow(images[i])\n",
    "    ax.axis('off')\n",
    "\n",
    "plt.tight_layout()\n",
    "plt.show()"
   ]
  },
  {
   "cell_type": "markdown",
   "id": "c1417135",
   "metadata": {},
   "source": [
    "### guidance_scale의 영향"
   ]
  },
  {
   "cell_type": "code",
   "execution_count": null,
   "id": "eb76d16e",
   "metadata": {},
   "outputs": [],
   "source": [
    "# prompt from https://civitai.com/images/16407281\n",
    "\n",
    "prompt = \"(RAW photo, best quality), (realistic, photo-realistic:1.4), masterpiece, extremely beautiful, extremely detailed, 4k wallpaper, Amazing, finely detail, ultra-detailed, highres, beautiful detailed girl, extremely detailed eyes and face, 1girl, solo, looking at viewer, smile, short hair, bangs, simple background, shirt, black hair, hair ornament, long sleeves, white shirt, upper body, necktie, black eyes, lips, realistic, kooo123, lora CHAEWO\"\n",
    "n_prompt = \"3d, sepia, painting, cartoons, sketch, watercolor, flat color, (worst quality:2), (low quality:2), (normal quality:2),out of focus,ugly,error, bad anatomy, ((monochrome)), (grayscale), deformed eyes, bad face,(worst quality:2), (low quality:2), (normal quality:2), (bad hands :1.8) ng_deepnegative_v1_75t\"\n",
    "\n",
    "images = pipe(prompt=prompt,\n",
    "             negative_prompt=n_prompt,\n",
    "             height=512,\n",
    "             width=512,\n",
    "             num_inference_steps=20,\n",
    "             guidance_scale=1,\n",
    "             num_images_per_prompt=8\n",
    "        ).images\n",
    "\n",
    "import matplotlib.pyplot as plt\n",
    "fig, axs = plt.subplots(2, 4, figsize=(15, 8))\n",
    "for i, ax in enumerate(axs.flatten()):\n",
    "    ax.imshow(images[i])\n",
    "    ax.axis('off')\n",
    "\n",
    "plt.tight_layout()\n",
    "plt.show()"
   ]
  },
  {
   "cell_type": "code",
   "execution_count": null,
   "id": "f176ddaf",
   "metadata": {},
   "outputs": [],
   "source": []
  },
  {
   "cell_type": "code",
   "execution_count": null,
   "id": "b9931477",
   "metadata": {},
   "outputs": [],
   "source": []
  },
  {
   "cell_type": "code",
   "execution_count": null,
   "id": "41cff647",
   "metadata": {},
   "outputs": [],
   "source": []
  }
 ],
 "metadata": {
  "kernelspec": {
   "display_name": "ste",
   "language": "python",
   "name": "ste"
  },
  "language_info": {
   "codemirror_mode": {
    "name": "ipython",
    "version": 3
   },
   "file_extension": ".py",
   "mimetype": "text/x-python",
   "name": "python",
   "nbconvert_exporter": "python",
   "pygments_lexer": "ipython3",
   "version": "3.9.18"
  }
 },
 "nbformat": 4,
 "nbformat_minor": 5
}
