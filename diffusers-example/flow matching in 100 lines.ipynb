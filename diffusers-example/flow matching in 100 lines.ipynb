{
 "cells": [
  {
   "cell_type": "markdown",
   "id": "da400a5d",
   "metadata": {},
   "source": [
    "## Flow-Matching in 100 Lines"
   ]
  },
  {
   "cell_type": "code",
   "execution_count": 1,
   "id": "9f621fcc",
   "metadata": {},
   "outputs": [
    {
     "name": "stderr",
     "output_type": "stream",
     "text": [
      "/home/gaudio/anaconda3/envs/lsd/lib/python3.8/site-packages/diffusers/utils/outputs.py:63: UserWarning: torch.utils._pytree._register_pytree_node is deprecated. Please use torch.utils._pytree.register_pytree_node instead.\n",
      "  torch.utils._pytree._register_pytree_node(\n"
     ]
    }
   ],
   "source": [
    "import numpy as np\n",
    "import copy\n",
    "import torch\n",
    "from torch import nn\n",
    "import torch.nn.functional as F\n",
    "from torchvision import datasets, transforms\n",
    "from diffusers.models.unet_2d import UNet2DModel as Unet\n",
    "from diffusers import DDPMScheduler\n",
    "from tqdm import tqdm\n",
    "from IPython import display"
   ]
  },
  {
   "cell_type": "markdown",
   "id": "a4d69c39",
   "metadata": {},
   "source": [
    "### Dataset"
   ]
  },
  {
   "cell_type": "code",
   "execution_count": 2,
   "id": "19e281ce",
   "metadata": {},
   "outputs": [
    {
     "name": "stdout",
     "output_type": "stream",
     "text": [
      "<torch.utils.data.dataloader.DataLoader object at 0x7fe8b9572e50>\n"
     ]
    }
   ],
   "source": [
    "transform = transforms.Compose([transforms.Resize((32, 32)),\n",
    "                                transforms.ToTensor(),\n",
    "                               ])\n",
    "# MNIST Dataset\n",
    "train_data = datasets.MNIST('mnist_data', train=True, download=True, transform=transform)\n",
    "train_loader = torch.utils.data.DataLoader(train_data, batch_size=16)\n",
    "print(train_loader)"
   ]
  },
  {
   "cell_type": "code",
   "execution_count": 10,
   "id": "fc2925df",
   "metadata": {},
   "outputs": [
    {
     "name": "stdout",
     "output_type": "stream",
     "text": [
      "Model initialized.\n"
     ]
    }
   ],
   "source": [
    "step = 0\n",
    "# Unet Model\n",
    "model = Unet(sample_size=32,\n",
    "            in_channels=1,\n",
    "            out_channels=1,\n",
    "            center_input_sample=False,\n",
    "            time_embedding_type=\"positional\",\n",
    "            down_block_types=(\"DownBlock2D\", \"DownBlock2D\", \"DownBlock2D\", \"AttnDownBlock2D\"),\n",
    "            up_block_types=(\"AttnUpBlock2D\", \"UpBlock2D\", \"UpBlock2D\", \"UpBlock2D\"),\n",
    "            block_out_channels=(64, 128, 256, 512),\n",
    "            layers_per_block=3).cuda()\n",
    "# EMA Model\n",
    "ema_model = copy.deepcopy(model)\n",
    "ema_model = ema_model.cuda()\n",
    "# Optimizer\n",
    "optimizer = torch.optim.Adam(model.parameters(), lr=1e-4)\n",
    "T = 1000\n",
    "print('Model initialized.')"
   ]
  },
  {
   "cell_type": "markdown",
   "id": "0e7cbcb8",
   "metadata": {},
   "source": [
    "### Train & Inference"
   ]
  },
  {
   "cell_type": "code",
   "execution_count": 11,
   "id": "a1c03b62",
   "metadata": {},
   "outputs": [],
   "source": [
    "def add_noise(x, z, t):\n",
    "    t = t[:, None, None, None]\n",
    "    return (1 - t/T) * z + t/T * x"
   ]
  },
  {
   "cell_type": "code",
   "execution_count": 13,
   "id": "4a1881aa",
   "metadata": {},
   "outputs": [
    {
     "name": "stderr",
     "output_type": "stream",
     "text": [
      "100%|██████████████████████████████████████████████████████████████████████████| 100/100 [00:01<00:00, 52.05it/s]\n"
     ]
    },
    {
     "data": {
      "image/png": "[encoded data removed]",
      "text/plain": [
       "<Figure size 1800x300 with 10 Axes>"
      ]
     },
     "metadata": {},
     "output_type": "display_data"
    }
   ],
   "source": [
    "while True:\n",
    "    for batch in train_loader:\n",
    "        # Data Preparation\n",
    "        x, _ = batch\n",
    "        x = x * 2 - 1\n",
    "        x = x.cuda()\n",
    "        # gen noise\n",
    "        z = torch.randn_like(x)\n",
    "        t = torch.randint(0, len(scheduler.betas), size=(len(x),)).cuda()\n",
    "        # x_t\n",
    "        x_noisy = add_noise(x, z, t) \n",
    "        # Model Forward\n",
    "        model.train()\n",
    "        model.zero_grad()\n",
    "        v_pred = model(x_noisy, t)['sample']\n",
    "        loss = F.mse_loss(v_pred, x - z)\n",
    "        # Model Backward\n",
    "        loss.backward()\n",
    "        optimizer.step()\n",
    "        # EMA Model Update\n",
    "        model_state_dict = model.state_dict()\n",
    "        ema_model_state_dict = ema_model.state_dict()\n",
    "        for key in model_state_dict:\n",
    "            ema_model_state_dict[key] = 0.999*ema_model_state_dict[key] + 0.001*model_state_dict[key]\n",
    "        ema_model.load_state_dict(ema_model_state_dict)\n",
    "        \n",
    "        if step % 10 == 0:\n",
    "            print('step :', step, 'loss :', loss.item())\n",
    "        if step % 100 == 0:\n",
    "            display.clear_output() \n",
    "        if step % 1000 == 0: \n",
    "            # Sampling    \n",
    "            ema_model.eval()\n",
    "            with torch.no_grad():\n",
    "                x = torch.randn(10, 1, 32, 32).cuda()\n",
    "                n_samplings = 100\n",
    "                dt = 1 / n_samplings\n",
    "                for t in tqdm(range(n_samplings)):\n",
    "                    t_tensor = torch.ones((len(x),)).cuda() * t / n_samplings * T\n",
    "                    v_pred = ema_model(x, t_tensor)['sample']\n",
    "                    x = x + v_pred * dt\n",
    "               \n",
    "            # Show Samples\n",
    "            import matplotlib.pyplot as plt\n",
    "            plt.figure(figsize=[18, 3])\n",
    "            for i in range(10):\n",
    "                plt.subplot(1, 10, i+1)\n",
    "                plt.imshow(x[i, 0].data.cpu().numpy(), cmap='gray')\n",
    "                plt.xticks([])\n",
    "                plt.yticks([])\n",
    "            plt.show()\n",
    "                \n",
    "        step += 1\n",
    "        if step > 5000:\n",
    "            break\n",
    "            \n",
    "    if step > 5000:        \n",
    "        break"
   ]
  },
  {
   "cell_type": "code",
   "execution_count": null,
   "id": "0be403e8",
   "metadata": {},
   "outputs": [],
   "source": []
  }
 ],
 "metadata": {
  "kernelspec": {
   "display_name": "lsd",
   "language": "python",
   "name": "lsd"
  },
  "language_info": {
   "codemirror_mode": {
    "name": "ipython",
    "version": 3
   },
   "file_extension": ".py",
   "mimetype": "text/x-python",
   "name": "python",
   "nbconvert_exporter": "python",
   "pygments_lexer": "ipython3",
   "version": "3.8.8"
  }
 },
 "nbformat": 4,
 "nbformat_minor": 5
}
