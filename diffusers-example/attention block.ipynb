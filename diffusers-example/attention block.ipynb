{
 "cells": [
  {
   "cell_type": "code",
   "execution_count": 27,
   "id": "1572b570",
   "metadata": {},
   "outputs": [],
   "source": [
    "# Borrowed Code From : https://github.com/CompVis/stable-diffusion/blob/main/ldm/modules/attention.py\n",
    "\n",
    "import torch\n",
    "from torch import nn, einsum\n",
    "from einops import rearrange, repeat\n",
    "\n",
    "def exists(val):\n",
    "    return val is not None\n",
    "\n",
    "def default(val, d):\n",
    "    if exists(val):\n",
    "        return val\n",
    "    return d() if isfunction(d) else d\n",
    "\n",
    "class CrossAttention(nn.Module):\n",
    "    def __init__(self, query_dim, context_dim=None, heads=8, dim_head=64, dropout=0.):\n",
    "        super().__init__()\n",
    "        inner_dim = dim_head * heads\n",
    "        context_dim = default(context_dim, query_dim)\n",
    "\n",
    "        self.scale = dim_head ** -0.5\n",
    "        self.heads = heads\n",
    "\n",
    "        self.to_q = nn.Linear(query_dim, inner_dim, bias=False)\n",
    "        self.to_k = nn.Linear(context_dim, inner_dim, bias=False)\n",
    "        self.to_v = nn.Linear(context_dim, inner_dim, bias=False)\n",
    "\n",
    "        self.to_out = nn.Sequential(\n",
    "            nn.Linear(inner_dim, query_dim),\n",
    "            nn.Dropout(dropout)\n",
    "        )\n",
    "\n",
    "    def forward(self, x, context=None, mask=None):\n",
    "        h = self.heads\n",
    "        \n",
    "        # q, k, v linear layers\n",
    "        q = self.to_q(x)\n",
    "        context = default(context, x)\n",
    "        k = self.to_k(context)\n",
    "        v = self.to_v(context)\n",
    "        print('q.shape :', q.shape,\n",
    "              'k.shape :', k.shape,\n",
    "              'v.shape :', v.shape)\n",
    "        \n",
    "        # multi-head attention\n",
    "        # b : batch, n : length, h : head, d : dim\n",
    "        q, k, v = map(lambda t: rearrange(t, 'b n (h d) -> (b h) n d', h=h), (q, k, v))\n",
    "        print('q.shape :', q.shape,\n",
    "              'k.shape :', k.shape,\n",
    "              'v.shape :', v.shape)\n",
    "\n",
    "        # get similarity by QK^T / \\sqrt(d_k)\n",
    "        sim = einsum('b i d, b j d -> b i j', q, k) * self.scale\n",
    "        print('sim.shape :', sim.shape)\n",
    "\n",
    "        if exists(mask):\n",
    "            # (b, n)\n",
    "            mask = rearrange(mask, 'b ... -> b (...)')\n",
    "            max_neg_value = -torch.finfo(sim.dtype).max\n",
    "            # (b, n) -> (b*h, 1, n)\n",
    "            mask = repeat(mask, 'b j -> (b h) () j', h=h)\n",
    "            # set masked regions to -inf.\n",
    "            sim.masked_fill_(~mask, max_neg_value)\n",
    "\n",
    "        # attention\n",
    "        attn = sim.softmax(dim=-1)\n",
    "\n",
    "        out = einsum('b i j, b j d -> b i d', attn, v)\n",
    "        out = rearrange(out, '(b h) n d -> b n (h d)', h=h)\n",
    "        return self.to_out(out)"
   ]
  },
  {
   "cell_type": "code",
   "execution_count": 28,
   "id": "42355a5c",
   "metadata": {},
   "outputs": [
    {
     "name": "stdout",
     "output_type": "stream",
     "text": [
      "q.shape : torch.Size([2, 10, 512]) k.shape : torch.Size([2, 20, 512]) v.shape : torch.Size([2, 20, 512])\n",
      "q.shape : torch.Size([16, 10, 64]) k.shape : torch.Size([16, 20, 64]) v.shape : torch.Size([16, 20, 64])\n",
      "sim.shape : torch.Size([16, 10, 20])\n",
      "torch.Size([2, 10, 512])\n"
     ]
    }
   ],
   "source": [
    "cross_attention = CrossAttention(query_dim=512, context_dim=512, heads=8, dim_head=64, dropout=0.)\n",
    "\n",
    "source_length = 10\n",
    "target_length = 20\n",
    "x = torch.randn(2, source_length, 512)\n",
    "context = torch.randn(2, target_length, 512)\n",
    "y = cross_attention(x, context)\n",
    "print(y.shape)"
   ]
  },
  {
   "cell_type": "code",
   "execution_count": null,
   "id": "1771eccf",
   "metadata": {},
   "outputs": [],
   "source": []
  }
 ],
 "metadata": {
  "kernelspec": {
   "display_name": "lsd",
   "language": "python",
   "name": "lsd"
  },
  "language_info": {
   "codemirror_mode": {
    "name": "ipython",
    "version": 3
   },
   "file_extension": ".py",
   "mimetype": "text/x-python",
   "name": "python",
   "nbconvert_exporter": "python",
   "pygments_lexer": "ipython3",
   "version": "3.8.8"
  }
 },
 "nbformat": 4,
 "nbformat_minor": 5
}
