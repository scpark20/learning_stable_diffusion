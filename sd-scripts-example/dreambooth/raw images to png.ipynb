{
 "cells": [
  {
   "cell_type": "code",
   "execution_count": 1,
   "id": "686c0004",
   "metadata": {},
   "outputs": [
    {
     "name": "stdout",
     "output_type": "stream",
     "text": [
      "0 Converted shark3.jpeg to PNG format.\n",
      "1 Converted shark2.png to PNG format.\n",
      "2 Converted shark5.jpeg to PNG format.\n",
      "3 Converted shark4.png to PNG format.\n",
      "4 Converted shark1.jpeg to PNG format.\n"
     ]
    }
   ],
   "source": [
    "import os\n",
    "from PIL import Image\n",
    "\n",
    "def convert_images_to_png(source_dir, target_dir):\n",
    "    # Ensure target directory exists\n",
    "    if not os.path.exists(target_dir):\n",
    "        os.makedirs(target_dir)\n",
    "    \n",
    "    # Loop through all files in the source directory\n",
    "    for i, filename in enumerate(os.listdir(source_dir)):\n",
    "        # Check if the file is an image\n",
    "        if filename.lower().endswith(('.png', '.jpg', '.jpeg', '.bmp', '.gif', '.tiff', '.webp')):\n",
    "            # Open the image\n",
    "            img = Image.open(os.path.join(source_dir, filename))\n",
    "            # Get the file name without the extension\n",
    "            file_name_without_ext = os.path.splitext(filename)[0]\n",
    "            # Save the image as PNG in the target directory\n",
    "            img.save(os.path.join(target_dir, f'{i}.png'))\n",
    "            print(i, f'Converted {filename} to PNG format.')\n",
    "        else:\n",
    "            print(filename, 'skip')\n",
    "\n",
    "source_directory = '/data/sd_dataset/shark_raw'  # 원본 디렉토리 경로\n",
    "target_directory = '/data/sd_dataset/shark_png'  # 변환된 파일을 저장할 디렉토리 경로\n",
    "\n",
    "convert_images_to_png(source_directory, target_directory)\n"
   ]
  },
  {
   "cell_type": "code",
   "execution_count": null,
   "id": "1c77f275",
   "metadata": {},
   "outputs": [],
   "source": []
  }
 ],
 "metadata": {
  "kernelspec": {
   "display_name": "ste",
   "language": "python",
   "name": "ste"
  },
  "language_info": {
   "codemirror_mode": {
    "name": "ipython",
    "version": 3
   },
   "file_extension": ".py",
   "mimetype": "text/x-python",
   "name": "python",
   "nbconvert_exporter": "python",
   "pygments_lexer": "ipython3",
   "version": "3.8.8"
  }
 },
 "nbformat": 4,
 "nbformat_minor": 5
}
