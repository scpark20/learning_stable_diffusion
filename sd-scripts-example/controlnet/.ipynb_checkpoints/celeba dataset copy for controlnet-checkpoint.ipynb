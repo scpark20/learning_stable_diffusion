{
 "cells": [
  {
   "cell_type": "code",
   "execution_count": null,
   "id": "2bcc1807",
   "metadata": {},
   "outputs": [
    {
     "name": "stderr",
     "output_type": "stream",
     "text": [
      "  2%|▌                                     | 789/49811 [00:01<00:52, 941.76it/s]"
     ]
    }
   ],
   "source": [
    "import os\n",
    "import shutil\n",
    "from tqdm import tqdm\n",
    "from concurrent.futures import ThreadPoolExecutor\n",
    "\n",
    "# 경로 설정\n",
    "celeba_dir = '/data/sd-dataset/celeba'\n",
    "celeba_mesh_dir = '/data/sd-dataset/celeba_mesh'\n",
    "celeba_copy_for_controlnet_dir = '/data/sd-dataset/celeba_copy_for_controlnet'\n",
    "\n",
    "# 디렉토리 생성\n",
    "os.makedirs(celeba_copy_for_controlnet_dir, exist_ok=True)\n",
    "\n",
    "# celeba_mesh 디렉토리 내 jpg 파일 리스트 가져오기\n",
    "jpg_files = [f for f in os.listdir(celeba_mesh_dir) if f.endswith('.jpg')]\n",
    "\n",
    "def process_image(jpg_file):\n",
    "    # 원본 jpg 파일 경로\n",
    "    src_jpg_path = os.path.join(celeba_dir, jpg_file)\n",
    "    \n",
    "    # 복사할 jpg 파일 경로\n",
    "    dst_jpg_path = os.path.join(celeba_copy_for_controlnet_dir, jpg_file)\n",
    "    \n",
    "    # jpg 파일 복사\n",
    "    if os.path.exists(src_jpg_path):\n",
    "        shutil.copy2(src_jpg_path, dst_jpg_path)\n",
    "    else:\n",
    "        print(f\"Warning: {src_jpg_path} not found.\")\n",
    "    \n",
    "    # txt 파일 경로 설정\n",
    "    txt_file = jpg_file.replace('.jpg', '.txt')\n",
    "    src_txt_path = os.path.join(celeba_dir, txt_file)\n",
    "    dst_txt_path = os.path.join(celeba_copy_for_controlnet_dir, txt_file)\n",
    "    \n",
    "    # txt 파일 복사\n",
    "    if os.path.exists(src_txt_path):\n",
    "        shutil.copy2(src_txt_path, dst_txt_path)\n",
    "    else:\n",
    "        print(f\"Warning: {src_txt_path} not found.\")\n",
    "\n",
    "# 쓰레드 풀 생성 및 파일 복사 작업 병렬 처리\n",
    "num_threads = 16  # 사용할 스레드 수 설정\n",
    "\n",
    "with ThreadPoolExecutor(max_workers=num_threads) as executor:\n",
    "    list(tqdm(executor.map(process_image, jpg_files), total=len(jpg_files)))\n",
    "\n",
    "print(\"File copying completed.\")\n"
   ]
  },
  {
   "cell_type": "code",
   "execution_count": null,
   "id": "3dc87b41",
   "metadata": {},
   "outputs": [],
   "source": []
  }
 ],
 "metadata": {
  "kernelspec": {
   "display_name": "ste",
   "language": "python",
   "name": "ste"
  },
  "language_info": {
   "codemirror_mode": {
    "name": "ipython",
    "version": 3
   },
   "file_extension": ".py",
   "mimetype": "text/x-python",
   "name": "python",
   "nbconvert_exporter": "python",
   "pygments_lexer": "ipython3",
   "version": "3.9.18"
  }
 },
 "nbformat": 4,
 "nbformat_minor": 5
}
