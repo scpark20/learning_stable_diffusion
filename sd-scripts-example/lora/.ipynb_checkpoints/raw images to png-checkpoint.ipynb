{
 "cells": [
  {
   "cell_type": "code",
   "execution_count": null,
   "id": "70dea067",
   "metadata": {},
   "outputs": [
    {
     "name": "stdout",
     "output_type": "stream",
     "text": [
      "0 Converted Kim_Jisoo_in_July_2023_05_(cropped).jpeg to PNG format.\n",
      "1 Converted b5a3e788c53b0bdc1af416a7b8787b0e57500c07r1-286-339v2_hq.jpeg to PNG format.\n",
      "2 Converted Untitled-design-2023-03-06T144102.566.webp to PNG format.\n",
      "3 Converted main-qimg-e6a97bd0a909af2dfff7f4a76386ab16-lq.jpeg to PNG format.\n",
      "4 Converted channels4_profile.jpeg to PNG format.\n",
      "5 Converted news1210_GettyImages-1690053648.webp to PNG format.\n",
      "6 Converted 89988985.webp to PNG format.\n"
     ]
    }
   ],
   "source": [
    "import os\n",
    "from PIL import Image\n",
    "\n",
    "def convert_images_to_png(source_dir, target_dir):\n",
    "    # Ensure target directory exists\n",
    "    if not os.path.exists(target_dir):\n",
    "        os.makedirs(target_dir)\n",
    "    \n",
    "    # Loop through all files in the source directory\n",
    "    for i, filename in enumerate(os.listdir(source_dir)):\n",
    "        # Check if the file is an image\n",
    "        if filename.lower().endswith(('.png', '.jpg', '.jpeg', '.bmp', '.gif', '.tiff', '.webp')):\n",
    "            # Open the image\n",
    "            img = Image.open(os.path.join(source_dir, filename))\n",
    "            # Get the file name without the extension\n",
    "            file_name_without_ext = os.path.splitext(filename)[0]\n",
    "            # Save the image as PNG in the target directory\n",
    "            img.save(os.path.join(target_dir, f'{i}.png'))\n",
    "            print(i, f'Converted {filename} to PNG format.')\n",
    "        else:\n",
    "            print(filename, 'skip')\n",
    "\n",
    "source_directory = '/data/sd-dataset/jisoo_raw'  # 원본 디렉토리 경로\n",
    "target_directory = '/data/sd-dataset/jisoo_png'  # 변환된 파일을 저장할 디렉토리 경로\n",
    "\n",
    "convert_images_to_png(source_directory, target_directory)\n"
   ]
  },
  {
   "cell_type": "code",
   "execution_count": null,
   "id": "57d2ad21",
   "metadata": {},
   "outputs": [],
   "source": []
  }
 ],
 "metadata": {
  "kernelspec": {
   "display_name": "ste",
   "language": "python",
   "name": "ste"
  },
  "language_info": {
   "codemirror_mode": {
    "name": "ipython",
    "version": 3
   },
   "file_extension": ".py",
   "mimetype": "text/x-python",
   "name": "python",
   "nbconvert_exporter": "python",
   "pygments_lexer": "ipython3",
   "version": "3.9.18"
  }
 },
 "nbformat": 4,
 "nbformat_minor": 5
}
