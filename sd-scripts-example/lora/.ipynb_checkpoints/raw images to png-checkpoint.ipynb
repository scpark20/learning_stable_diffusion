{
 "cells": [
  {
   "cell_type": "code",
   "execution_count": 2,
   "id": "70dea067",
   "metadata": {},
   "outputs": [
    {
     "name": "stdout",
     "output_type": "stream",
     "text": [
      "0 Converted Screen Shot 2024-06-11 at 7.39.58 PM.png to PNG format.\n",
      "1 Converted Screen Shot 2024-06-11 at 7.40.04 PM.png to PNG format.\n",
      "2 Converted Screen Shot 2024-06-11 at 7.39.53 PM.png to PNG format.\n",
      "3 Converted Screen Shot 2024-06-11 at 7.40.13 PM.png to PNG format.\n",
      "4 Converted Screen Shot 2024-06-11 at 7.40.09 PM.png to PNG format.\n",
      "5 Converted Screen Shot 2024-06-11 at 7.40.32 PM.png to PNG format.\n",
      "6 Converted Screen Shot 2024-06-11 at 7.39.49 PM.png to PNG format.\n",
      "7 Converted Screen Shot 2024-06-11 at 7.39.45 PM.png to PNG format.\n",
      "8 Converted Screen Shot 2024-06-11 at 7.40.22 PM.png to PNG format.\n",
      "9 Converted Screen Shot 2024-06-11 at 7.40.17 PM.png to PNG format.\n",
      "10 Converted Screen Shot 2024-06-11 at 7.39.40 PM.png to PNG format.\n",
      "11 Converted Screen Shot 2024-06-11 at 7.39.35 PM.png to PNG format.\n",
      "12 Converted Screen Shot 2024-06-11 at 7.40.27 PM.png to PNG format.\n",
      "13 Converted Screen Shot 2024-06-11 at 7.39.30 PM.png to PNG format.\n",
      "14 Converted Screen Shot 2024-06-11 at 7.39.25 PM.png to PNG format.\n",
      "15 Converted Screen Shot 2024-06-11 at 7.39.20 PM.png to PNG format.\n",
      "16 Converted Screen Shot 2024-06-11 at 7.39.14 PM.png to PNG format.\n",
      "17 Converted Screen Shot 2024-06-11 at 7.39.10 PM.png to PNG format.\n",
      "18 Converted Screen Shot 2024-06-11 at 7.39.05 PM.png to PNG format.\n",
      "19 Converted Screen Shot 2024-06-11 at 7.39.00 PM.png to PNG format.\n",
      "20 Converted Screen Shot 2024-06-11 at 7.38.54 PM.png to PNG format.\n",
      "21 Converted Screen Shot 2024-06-11 at 7.38.50 PM.png to PNG format.\n",
      "22 Converted Screen Shot 2024-06-11 at 7.38.45 PM.png to PNG format.\n",
      "23 Converted Screen Shot 2024-06-11 at 7.38.39 PM.png to PNG format.\n",
      "24 Converted Screen Shot 2024-06-11 at 7.38.34 PM.png to PNG format.\n",
      "25 Converted Screen Shot 2024-06-11 at 7.38.28 PM.png to PNG format.\n",
      "26 Converted Screen Shot 2024-06-11 at 7.38.23 PM.png to PNG format.\n",
      ".DS_Store skip\n"
     ]
    }
   ],
   "source": [
    "import os\n",
    "from PIL import Image\n",
    "\n",
    "def convert_images_to_png(source_dir, target_dir):\n",
    "    # Ensure target directory exists\n",
    "    if not os.path.exists(target_dir):\n",
    "        os.makedirs(target_dir)\n",
    "    \n",
    "    # Loop through all files in the source directory\n",
    "    for i, filename in enumerate(os.listdir(source_dir)):\n",
    "        # Check if the file is an image\n",
    "        if filename.lower().endswith(('.png', '.jpg', '.jpeg', '.bmp', '.gif', '.tiff', '.webp')):\n",
    "            # Open the image\n",
    "            img = Image.open(os.path.join(source_dir, filename))\n",
    "            # Get the file name without the extension\n",
    "            file_name_without_ext = os.path.splitext(filename)[0]\n",
    "            # Save the image as PNG in the target directory\n",
    "            img.save(os.path.join(target_dir, f'{i}.png'))\n",
    "            print(i, f'Converted {filename} to PNG format.')\n",
    "        else:\n",
    "            print(filename, 'skip')\n",
    "\n",
    "source_directory = '/data/sd_dataset/jisoo_raw'  # 원본 디렉토리 경로\n",
    "target_directory = '/data/sd_dataset/jisoo_png'  # 변환된 파일을 저장할 디렉토리 경로\n",
    "\n",
    "convert_images_to_png(source_directory, target_directory)\n"
   ]
  },
  {
   "cell_type": "code",
   "execution_count": null,
   "id": "57d2ad21",
   "metadata": {},
   "outputs": [],
   "source": []
  }
 ],
 "metadata": {
  "kernelspec": {
   "display_name": "ste",
   "language": "python",
   "name": "ste"
  },
  "language_info": {
   "codemirror_mode": {
    "name": "ipython",
    "version": 3
   },
   "file_extension": ".py",
   "mimetype": "text/x-python",
   "name": "python",
   "nbconvert_exporter": "python",
   "pygments_lexer": "ipython3",
   "version": "3.8.8"
  }
 },
 "nbformat": 4,
 "nbformat_minor": 5
}
