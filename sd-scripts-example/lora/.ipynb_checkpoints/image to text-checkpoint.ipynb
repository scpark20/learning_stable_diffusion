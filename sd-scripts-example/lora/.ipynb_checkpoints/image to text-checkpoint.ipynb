{
 "cells": [
  {
   "cell_type": "code",
   "execution_count": 1,
   "id": "c63f5da5",
   "metadata": {
    "scrolled": true
   },
   "outputs": [
    {
     "name": "stdout",
     "output_type": "stream",
     "text": [
      "Thu Jul 11 14:13:21 2024       \n",
      "+-----------------------------------------------------------------------------+\n",
      "| NVIDIA-SMI 525.147.05   Driver Version: 525.147.05   CUDA Version: 12.0     |\n",
      "|-------------------------------+----------------------+----------------------+\n",
      "| GPU  Name        Persistence-M| Bus-Id        Disp.A | Volatile Uncorr. ECC |\n",
      "| Fan  Temp  Perf  Pwr:Usage/Cap|         Memory-Usage | GPU-Util  Compute M. |\n",
      "|                               |                      |               MIG M. |\n",
      "|===============================+======================+======================|\n",
      "|   0  NVIDIA GeForce ...  On   | 00000000:01:00.0 Off |                  N/A |\n",
      "| 37%   26C    P8    28W / 350W |      6MiB / 24576MiB |      0%      Default |\n",
      "|                               |                      |                  N/A |\n",
      "+-------------------------------+----------------------+----------------------+\n",
      "|   1  NVIDIA GeForce ...  On   | 00000000:23:00.0 Off |                  N/A |\n",
      "| 36%   25C    P8    24W / 350W |      6MiB / 24576MiB |      0%      Default |\n",
      "|                               |                      |                  N/A |\n",
      "+-------------------------------+----------------------+----------------------+\n",
      "|   2  NVIDIA GeForce ...  On   | 00000000:41:00.0 Off |                  N/A |\n",
      "| 36%   25C    P8    25W / 350W |      6MiB / 24576MiB |      0%      Default |\n",
      "|                               |                      |                  N/A |\n",
      "+-------------------------------+----------------------+----------------------+\n",
      "|   3  NVIDIA GeForce ...  On   | 00000000:61:00.0 Off |                  N/A |\n",
      "| 36%   25C    P8    22W / 350W |      6MiB / 24576MiB |      0%      Default |\n",
      "|                               |                      |                  N/A |\n",
      "+-------------------------------+----------------------+----------------------+\n",
      "|   4  NVIDIA GeForce ...  On   | 00000000:81:00.0 Off |                  N/A |\n",
      "| 37%   25C    P8    26W / 350W |      6MiB / 24576MiB |      0%      Default |\n",
      "|                               |                      |                  N/A |\n",
      "+-------------------------------+----------------------+----------------------+\n",
      "|   5  NVIDIA GeForce ...  On   | 00000000:A1:00.0 Off |                  N/A |\n",
      "| 38%   24C    P8    25W / 350W |      6MiB / 24576MiB |      0%      Default |\n",
      "|                               |                      |                  N/A |\n",
      "+-------------------------------+----------------------+----------------------+\n",
      "|   6  NVIDIA GeForce ...  On   | 00000000:C1:00.0 Off |                  N/A |\n",
      "| 37%   24C    P8    17W / 350W |      6MiB / 24576MiB |      0%      Default |\n",
      "|                               |                      |                  N/A |\n",
      "+-------------------------------+----------------------+----------------------+\n",
      "|   7  NVIDIA GeForce ...  On   | 00000000:E1:00.0 Off |                  N/A |\n",
      "| 37%   24C    P8    28W / 350W |      6MiB / 24576MiB |      0%      Default |\n",
      "|                               |                      |                  N/A |\n",
      "+-------------------------------+----------------------+----------------------+\n",
      "                                                                               \n",
      "+-----------------------------------------------------------------------------+\n",
      "| Processes:                                                                  |\n",
      "|  GPU   GI   CI        PID   Type   Process name                  GPU Memory |\n",
      "|        ID   ID                                                   Usage      |\n",
      "|=============================================================================|\n",
      "|    0   N/A  N/A      3594      G   /usr/lib/xorg/Xorg                  4MiB |\n",
      "|    1   N/A  N/A      3594      G   /usr/lib/xorg/Xorg                  4MiB |\n",
      "|    2   N/A  N/A      3594      G   /usr/lib/xorg/Xorg                  4MiB |\n",
      "|    3   N/A  N/A      3594      G   /usr/lib/xorg/Xorg                  4MiB |\n",
      "|    4   N/A  N/A      3594      G   /usr/lib/xorg/Xorg                  4MiB |\n",
      "|    5   N/A  N/A      3594      G   /usr/lib/xorg/Xorg                  4MiB |\n",
      "|    6   N/A  N/A      3594      G   /usr/lib/xorg/Xorg                  4MiB |\n",
      "|    7   N/A  N/A      3594      G   /usr/lib/xorg/Xorg                  4MiB |\n",
      "+-----------------------------------------------------------------------------+\n"
     ]
    }
   ],
   "source": [
    "import torch\n",
    "import torch.nn as nn\n",
    "import torch.nn.functional as F\n",
    "import numpy as np\n",
    "import os\n",
    "\n",
    "!nvidia-smi\n",
    "os.environ[\"CUDA_VISIBLE_DEVICES\"]= \"0\""
   ]
  },
  {
   "cell_type": "markdown",
   "id": "394cd7e9",
   "metadata": {},
   "source": [
    "### Get PNG file list"
   ]
  },
  {
   "cell_type": "code",
   "execution_count": 2,
   "id": "3d552b6e",
   "metadata": {},
   "outputs": [
    {
     "data": {
      "text/plain": [
       "27"
      ]
     },
     "execution_count": 2,
     "metadata": {},
     "output_type": "execute_result"
    }
   ],
   "source": [
    "import os\n",
    "import numpy as np\n",
    "from tqdm import tqdm\n",
    "\n",
    "def find_png_files(directory):\n",
    "    png_files = []\n",
    "    for root, _, files in os.walk(directory):\n",
    "        for file in files:\n",
    "            if file.endswith('.png'):\n",
    "                full_path = os.path.join(root, file)\n",
    "                png_files.append(full_path)\n",
    "    return png_files\n",
    "\n",
    "# Example usage\n",
    "directory = '/data/sd_dataset/jisoo_png'  # Assuming the user wants to search this directory\n",
    "png_files = find_png_files(directory)\n",
    "np.random.shuffle(png_files)\n",
    "len(png_files)"
   ]
  },
  {
   "cell_type": "markdown",
   "id": "322f31a3",
   "metadata": {},
   "source": [
    "### Load BLIP2"
   ]
  },
  {
   "cell_type": "code",
   "execution_count": 3,
   "id": "ef75a6e2",
   "metadata": {},
   "outputs": [
    {
     "data": {
      "application/vnd.jupyter.widget-view+json": {
       "model_id": "27e7d609bcf04619980d600d52b3b4cc",
       "version_major": 2,
       "version_minor": 0
      },
      "text/plain": [
       "Loading checkpoint shards:   0%|          | 0/2 [00:00<?, ?it/s]"
      ]
     },
     "metadata": {},
     "output_type": "display_data"
    }
   ],
   "source": [
    "import torch\n",
    "import requests\n",
    "from PIL import Image\n",
    "from transformers import Blip2Processor, Blip2ForConditionalGeneration\n",
    "\n",
    "processor2 = Blip2Processor.from_pretrained(\"Salesforce/blip2-opt-2.7b\")\n",
    "model2 = Blip2ForConditionalGeneration.from_pretrained(\n",
    "    \"Salesforce/blip2-opt-2.7b\", device_map={\"\": 0}, torch_dtype=torch.float16\n",
    ")  # doctest: +IGNORE_RESULT\n"
   ]
  },
  {
   "cell_type": "code",
   "execution_count": 4,
   "id": "94549562",
   "metadata": {},
   "outputs": [
    {
     "name": "stdout",
     "output_type": "stream",
     "text": [
      "done\n"
     ]
    }
   ],
   "source": [
    "print('done')"
   ]
  },
  {
   "cell_type": "markdown",
   "id": "22c94f17",
   "metadata": {},
   "source": [
    "### Image to Text"
   ]
  },
  {
   "cell_type": "code",
   "execution_count": 5,
   "id": "2a454c89",
   "metadata": {},
   "outputs": [],
   "source": [
    "def image_to_text(image_file, text=None):\n",
    "    raw_image = Image.open(image_file).convert('RGB')\n",
    "\n",
    "    inputs = processor2(images=raw_image, text=text, return_tensors=\"pt\").to('cuda:0', torch.float16)\n",
    "\n",
    "    generated_ids = model2.generate(**inputs, max_length=50)\n",
    "    generated_text = processor2.batch_decode(generated_ids, skip_special_tokens=True)[0].strip()\n",
    "    return generated_text"
   ]
  },
  {
   "cell_type": "code",
   "execution_count": 6,
   "id": "8c9db290",
   "metadata": {
    "scrolled": false
   },
   "outputs": [
    {
     "name": "stdout",
     "output_type": "stream",
     "text": [
      "jisoo, a young woman with long hair and a white top\n",
      "jisoo, a woman with black hair and red lipstick\n",
      "jisoo, a young woman with long hair and a white dress\n",
      "jisoo, the korean girl with long black hair and earrings\n",
      "jisoo, the korean actress is wearing earrings\n",
      "jisoo, a woman with long black hair and red lips\n",
      "jisoo, a woman with long black hair and a white top\n",
      "jisoo, a young woman with long black hair and a white top\n",
      "jisoo, a young asian woman with long hair and a white shirt\n",
      "jisoo, a woman with a white shirt and earrings\n",
      "jisoo, a woman with long black hair and red lipstick\n",
      "jisoo, a woman with long black hair and a red dress\n",
      "jisoo, a woman with long hair wearing a white blazer\n",
      "jisoo, a woman with long black hair and red lips\n",
      "jisoo, a beautiful young woman with long brown hair\n",
      "jisoo, a woman with long black hair and a black bow tie\n",
      "jisoo, a beautiful young woman with long hair and blue top\n",
      "jisoo, a young asian woman with long hair and earrings\n",
      "jisoo, a woman with long black hair posing for a photo\n",
      "jisoo, a woman with long hair and a black top\n",
      "jisoo, a woman with long black hair and a white shirt\n",
      "jisoo, a woman with long black hair wearing a tiara\n",
      "jisoo, a woman with long black hair and a red lipstick\n",
      "jisoo, a woman with long black hair and a black top\n",
      "jisoo, a young woman with long hair and an orange lipstick\n",
      "jisoo, a beautiful young woman with long black hair and red lipstick\n",
      "jisoo, a woman with long black hair and a black suit\n"
     ]
    }
   ],
   "source": [
    "from tqdm import tqdm\n",
    "import os\n",
    "\n",
    "prefix = 'jisoo'\n",
    "for image_file in png_files:\n",
    "    save_file = image_file[:-3] + 'txt'\n",
    "    prompt = prefix + ', ' + image_to_text(image_file)\n",
    "    print(prompt)\n",
    "    with open(save_file, 'w') as f:\n",
    "        f.write(prompt)\n"
   ]
  },
  {
   "cell_type": "code",
   "execution_count": null,
   "id": "3abc8298",
   "metadata": {},
   "outputs": [],
   "source": []
  }
 ],
 "metadata": {
  "kernelspec": {
   "display_name": "lsd",
   "language": "python",
   "name": "lsd"
  },
  "language_info": {
   "codemirror_mode": {
    "name": "ipython",
    "version": 3
   },
   "file_extension": ".py",
   "mimetype": "text/x-python",
   "name": "python",
   "nbconvert_exporter": "python",
   "pygments_lexer": "ipython3",
   "version": "3.8.8"
  }
 },
 "nbformat": 4,
 "nbformat_minor": 5
}
