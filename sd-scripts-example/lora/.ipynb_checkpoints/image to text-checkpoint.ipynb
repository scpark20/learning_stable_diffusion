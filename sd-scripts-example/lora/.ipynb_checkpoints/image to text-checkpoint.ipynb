{
 "cells": [
  {
   "cell_type": "code",
   "execution_count": 7,
   "id": "c63f5da5",
   "metadata": {},
   "outputs": [
    {
     "name": "stdout",
     "output_type": "stream",
     "text": [
      "Tue Jun 11 19:41:47 2024       \n",
      "+-----------------------------------------------------------------------------------------+\n",
      "| NVIDIA-SMI 550.54.15              Driver Version: 550.54.15      CUDA Version: 12.4     |\n",
      "|-----------------------------------------+------------------------+----------------------+\n",
      "| GPU  Name                 Persistence-M | Bus-Id          Disp.A | Volatile Uncorr. ECC |\n",
      "| Fan  Temp   Perf          Pwr:Usage/Cap |           Memory-Usage | GPU-Util  Compute M. |\n",
      "|                                         |                        |               MIG M. |\n",
      "|=========================================+========================+======================|\n",
      "|   0  NVIDIA GeForce RTX 4090        Off |   00000000:19:00.0 Off |                  Off |\n",
      "|  0%   48C    P8             38W /  450W |   18410MiB /  24564MiB |      0%      Default |\n",
      "|                                         |                        |                  N/A |\n",
      "+-----------------------------------------+------------------------+----------------------+\n",
      "|   1  NVIDIA GeForce RTX 4090        Off |   00000000:68:00.0 Off |                  Off |\n",
      "|  0%   55C    P8             34W /  450W |      28MiB /  24564MiB |      0%      Default |\n",
      "|                                         |                        |                  N/A |\n",
      "+-----------------------------------------+------------------------+----------------------+\n",
      "                                                                                         \n",
      "+-----------------------------------------------------------------------------------------+\n",
      "| Processes:                                                                              |\n",
      "|  GPU   GI   CI        PID   Type   Process name                              GPU Memory |\n",
      "|        ID   ID                                                               Usage      |\n",
      "|=========================================================================================|\n",
      "|    0   N/A  N/A      1212      G   /usr/lib/xorg/Xorg                              4MiB |\n",
      "|    0   N/A  N/A     59927      C   ...cpark/anaconda3/envs/ste/bin/python       9434MiB |\n",
      "|    0   N/A  N/A     60419      C   ...cpark/anaconda3/envs/ste/bin/python       4412MiB |\n",
      "|    0   N/A  N/A     83635      C   ...cpark/anaconda3/envs/ste/bin/python       4540MiB |\n",
      "|    1   N/A  N/A      1212      G   /usr/lib/xorg/Xorg                              9MiB |\n",
      "|    1   N/A  N/A      1491      G   /usr/bin/gnome-shell                            8MiB |\n",
      "+-----------------------------------------------------------------------------------------+\n"
     ]
    }
   ],
   "source": [
    "import torch\n",
    "import torch.nn as nn\n",
    "import torch.nn.functional as F\n",
    "import numpy as np\n",
    "import os\n",
    "\n",
    "!nvidia-smi\n",
    "os.environ[\"CUDA_VISIBLE_DEVICES\"]= \"0\""
   ]
  },
  {
   "cell_type": "markdown",
   "id": "394cd7e9",
   "metadata": {},
   "source": [
    "### Get PNG file list"
   ]
  },
  {
   "cell_type": "code",
   "execution_count": 9,
   "id": "3d552b6e",
   "metadata": {},
   "outputs": [
    {
     "data": {
      "text/plain": [
       "27"
      ]
     },
     "execution_count": 9,
     "metadata": {},
     "output_type": "execute_result"
    }
   ],
   "source": [
    "import os\n",
    "import numpy as np\n",
    "from tqdm import tqdm\n",
    "\n",
    "def find_png_files(directory):\n",
    "    png_files = []\n",
    "    for root, _, files in os.walk(directory):\n",
    "        for file in files:\n",
    "            if file.endswith('.png'):\n",
    "                full_path = os.path.join(root, file)\n",
    "                png_files.append(full_path)\n",
    "    return png_files\n",
    "\n",
    "# Example usage\n",
    "directory = '/data/sd-dataset/jisoo_png'  # Assuming the user wants to search this directory\n",
    "png_files = find_png_files(directory)\n",
    "np.random.shuffle(png_files)\n",
    "len(png_files)"
   ]
  },
  {
   "cell_type": "markdown",
   "id": "322f31a3",
   "metadata": {},
   "source": [
    "### Load BLIP2"
   ]
  },
  {
   "cell_type": "code",
   "execution_count": null,
   "id": "ef75a6e2",
   "metadata": {},
   "outputs": [
    {
     "name": "stderr",
     "output_type": "stream",
     "text": [
      "The `load_in_4bit` and `load_in_8bit` arguments are deprecated and will be removed in the future versions. Please, pass a `BitsAndBytesConfig` object in `quantization_config` argument instead.\n",
      "Loading checkpoint shards:  50%|█████████         | 1/2 [00:02<00:02,  2.45s/it]"
     ]
    }
   ],
   "source": [
    "import torch\n",
    "import requests\n",
    "from PIL import Image\n",
    "from transformers import Blip2Processor, Blip2ForConditionalGeneration\n",
    "\n",
    "processor2 = Blip2Processor.from_pretrained(\"Salesforce/blip2-opt-2.7b\")\n",
    "model2 = Blip2ForConditionalGeneration.from_pretrained(\n",
    "    \"Salesforce/blip2-opt-2.7b\", load_in_8bit=True, device_map={\"\": 0}, torch_dtype=torch.float16\n",
    ")  # doctest: +IGNORE_RESULT\n"
   ]
  },
  {
   "cell_type": "markdown",
   "id": "22c94f17",
   "metadata": {},
   "source": [
    "### Image to Text"
   ]
  },
  {
   "cell_type": "code",
   "execution_count": null,
   "id": "2a454c89",
   "metadata": {},
   "outputs": [],
   "source": [
    "def image_to_text(image_file, text=None):\n",
    "    raw_image = Image.open(image_file).convert('RGB')\n",
    "\n",
    "    inputs = processor2(images=raw_image, text=text, return_tensors=\"pt\").to('cuda:0', torch.float16)\n",
    "\n",
    "    generated_ids = model2.generate(**inputs, max_length=50)\n",
    "    generated_text = processor2.batch_decode(generated_ids, skip_special_tokens=True)[0].strip()\n",
    "    return generated_text"
   ]
  },
  {
   "cell_type": "code",
   "execution_count": null,
   "id": "8c9db290",
   "metadata": {
    "scrolled": true
   },
   "outputs": [],
   "source": [
    "from tqdm import tqdm\n",
    "import os\n",
    "\n",
    "prefix = 'jisoo'\n",
    "for image_file in tqdm(png_files):\n",
    "    save_file = image_file[:-3] + 'txt'\n",
    "    prompt = prefix + ', ' + image_to_text(image_file)\n",
    "    with open(save_file, 'w') as f:\n",
    "        f.write(prompt)\n"
   ]
  },
  {
   "cell_type": "code",
   "execution_count": null,
   "id": "931f9434",
   "metadata": {},
   "outputs": [],
   "source": []
  }
 ],
 "metadata": {
  "kernelspec": {
   "display_name": "ste",
   "language": "python",
   "name": "ste"
  },
  "language_info": {
   "codemirror_mode": {
    "name": "ipython",
    "version": 3
   },
   "file_extension": ".py",
   "mimetype": "text/x-python",
   "name": "python",
   "nbconvert_exporter": "python",
   "pygments_lexer": "ipython3",
   "version": "3.9.18"
  }
 },
 "nbformat": 4,
 "nbformat_minor": 5
}
