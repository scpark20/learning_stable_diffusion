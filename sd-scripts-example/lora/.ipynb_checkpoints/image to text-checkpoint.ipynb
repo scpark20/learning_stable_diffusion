{
 "cells": [
  {
   "cell_type": "code",
   "execution_count": 1,
   "id": "c63f5da5",
   "metadata": {},
   "outputs": [
    {
     "name": "stdout",
     "output_type": "stream",
     "text": [
      "Sun Jul  7 15:52:51 2024       \n",
      "+-----------------------------------------------------------------------------+\n",
      "| NVIDIA-SMI 520.61.05    Driver Version: 520.61.05    CUDA Version: 11.8     |\n",
      "|-------------------------------+----------------------+----------------------+\n",
      "| GPU  Name        Persistence-M| Bus-Id        Disp.A | Volatile Uncorr. ECC |\n",
      "| Fan  Temp  Perf  Pwr:Usage/Cap|         Memory-Usage | GPU-Util  Compute M. |\n",
      "|                               |                      |               MIG M. |\n",
      "|===============================+======================+======================|\n",
      "|   0  NVIDIA GeForce ...  On   | 00000000:01:00.0 Off |                  N/A |\n",
      "| 31%   21C    P8    25W / 350W |      1MiB / 24576MiB |      0%      Default |\n",
      "|                               |                      |                  N/A |\n",
      "+-------------------------------+----------------------+----------------------+\n",
      "|   1  NVIDIA GeForce ...  On   | 00000000:23:00.0 Off |                  N/A |\n",
      "| 35%   21C    P8    26W / 350W |      1MiB / 24576MiB |      0%      Default |\n",
      "|                               |                      |                  N/A |\n",
      "+-------------------------------+----------------------+----------------------+\n",
      "|   2  NVIDIA GeForce ...  On   | 00000000:41:00.0 Off |                  N/A |\n",
      "| 34%   20C    P8    26W / 350W |      1MiB / 24576MiB |      0%      Default |\n",
      "|                               |                      |                  N/A |\n",
      "+-------------------------------+----------------------+----------------------+\n",
      "|   3  NVIDIA GeForce ...  On   | 00000000:61:00.0 Off |                  N/A |\n",
      "| 36%   21C    P8    23W / 350W |      1MiB / 24576MiB |      0%      Default |\n",
      "|                               |                      |                  N/A |\n",
      "+-------------------------------+----------------------+----------------------+\n",
      "|   4  NVIDIA GeForce ...  On   | 00000000:81:00.0 Off |                  N/A |\n",
      "| 37%   22C    P8    20W / 350W |      1MiB / 24576MiB |      0%      Default |\n",
      "|                               |                      |                  N/A |\n",
      "+-------------------------------+----------------------+----------------------+\n",
      "|   5  NVIDIA GeForce ...  On   | 00000000:A1:00.0 Off |                  N/A |\n",
      "| 37%   22C    P8    24W / 350W |      1MiB / 24576MiB |      0%      Default |\n",
      "|                               |                      |                  N/A |\n",
      "+-------------------------------+----------------------+----------------------+\n",
      "|   6  NVIDIA GeForce ...  On   | 00000000:C1:00.0 Off |                  N/A |\n",
      "| 37%   22C    P8    17W / 350W |      1MiB / 24576MiB |      0%      Default |\n",
      "|                               |                      |                  N/A |\n",
      "+-------------------------------+----------------------+----------------------+\n",
      "|   7  NVIDIA GeForce ...  On   | 00000000:E1:00.0 Off |                  N/A |\n",
      "| 37%   22C    P8    23W / 350W |      1MiB / 24576MiB |      0%      Default |\n",
      "|                               |                      |                  N/A |\n",
      "+-------------------------------+----------------------+----------------------+\n",
      "                                                                               \n",
      "+-----------------------------------------------------------------------------+\n",
      "| Processes:                                                                  |\n",
      "|  GPU   GI   CI        PID   Type   Process name                  GPU Memory |\n",
      "|        ID   ID                                                   Usage      |\n",
      "|=============================================================================|\n",
      "|  No running processes found                                                 |\n",
      "+-----------------------------------------------------------------------------+\n"
     ]
    }
   ],
   "source": [
    "import torch\n",
    "import torch.nn as nn\n",
    "import torch.nn.functional as F\n",
    "import numpy as np\n",
    "import os\n",
    "\n",
    "!nvidia-smi\n",
    "os.environ[\"CUDA_VISIBLE_DEVICES\"]= \"0\""
   ]
  },
  {
   "cell_type": "markdown",
   "id": "394cd7e9",
   "metadata": {},
   "source": [
    "### Get PNG file list"
   ]
  },
  {
   "cell_type": "code",
   "execution_count": 2,
   "id": "3d552b6e",
   "metadata": {},
   "outputs": [
    {
     "data": {
      "text/plain": [
       "27"
      ]
     },
     "execution_count": 2,
     "metadata": {},
     "output_type": "execute_result"
    }
   ],
   "source": [
    "import os\n",
    "import numpy as np\n",
    "from tqdm import tqdm\n",
    "\n",
    "def find_png_files(directory):\n",
    "    png_files = []\n",
    "    for root, _, files in os.walk(directory):\n",
    "        for file in files:\n",
    "            if file.endswith('.png'):\n",
    "                full_path = os.path.join(root, file)\n",
    "                png_files.append(full_path)\n",
    "    return png_files\n",
    "\n",
    "# Example usage\n",
    "directory = '/data/sd_dataset/jisoo_png'  # Assuming the user wants to search this directory\n",
    "png_files = find_png_files(directory)\n",
    "np.random.shuffle(png_files)\n",
    "len(png_files)"
   ]
  },
  {
   "cell_type": "markdown",
   "id": "322f31a3",
   "metadata": {},
   "source": [
    "### Load BLIP2"
   ]
  },
  {
   "cell_type": "code",
   "execution_count": 3,
   "id": "ef75a6e2",
   "metadata": {},
   "outputs": [
    {
     "data": {
      "application/vnd.jupyter.widget-view+json": {
       "model_id": "e88487fbd85246759362c5678586f08a",
       "version_major": 2,
       "version_minor": 0
      },
      "text/plain": [
       "HBox(children=(FloatProgress(value=0.0, description='Downloading shards', max=2.0, style=ProgressStyle(descrip…"
      ]
     },
     "metadata": {},
     "output_type": "display_data"
    },
    {
     "data": {
      "application/vnd.jupyter.widget-view+json": {
       "model_id": "9f077af2bdc540dd983bb06584bb0721",
       "version_major": 2,
       "version_minor": 0
      },
      "text/plain": [
       "HBox(children=(FloatProgress(value=0.0, description='model-00001-of-00002.safetensors', max=9996000440.0, styl…"
      ]
     },
     "metadata": {},
     "output_type": "display_data"
    },
    {
     "name": "stdout",
     "output_type": "stream",
     "text": [
      "\n"
     ]
    },
    {
     "data": {
      "application/vnd.jupyter.widget-view+json": {
       "model_id": "4df09819bc3e47e081f8b41defa27bf8",
       "version_major": 2,
       "version_minor": 0
      },
      "text/plain": [
       "HBox(children=(FloatProgress(value=0.0, description='model-00002-of-00002.safetensors', max=5497664472.0, styl…"
      ]
     },
     "metadata": {},
     "output_type": "display_data"
    },
    {
     "name": "stdout",
     "output_type": "stream",
     "text": [
      "\n",
      "\n"
     ]
    },
    {
     "data": {
      "application/vnd.jupyter.widget-view+json": {
       "model_id": "2c8e66951ae749be9237c17c4e0d54ee",
       "version_major": 2,
       "version_minor": 0
      },
      "text/plain": [
       "HBox(children=(FloatProgress(value=0.0, description='Loading checkpoint shards', max=2.0, style=ProgressStyle(…"
      ]
     },
     "metadata": {},
     "output_type": "display_data"
    },
    {
     "name": "stdout",
     "output_type": "stream",
     "text": [
      "\n"
     ]
    }
   ],
   "source": [
    "import torch\n",
    "import requests\n",
    "from PIL import Image\n",
    "from transformers import Blip2Processor, Blip2ForConditionalGeneration\n",
    "\n",
    "processor2 = Blip2Processor.from_pretrained(\"Salesforce/blip2-opt-2.7b\")\n",
    "model2 = Blip2ForConditionalGeneration.from_pretrained(\n",
    "    \"Salesforce/blip2-opt-2.7b\", device_map={\"\": 0}, torch_dtype=torch.float16\n",
    ")  # doctest: +IGNORE_RESULT\n"
   ]
  },
  {
   "cell_type": "markdown",
   "id": "22c94f17",
   "metadata": {},
   "source": [
    "### Image to Text"
   ]
  },
  {
   "cell_type": "code",
   "execution_count": 4,
   "id": "2a454c89",
   "metadata": {},
   "outputs": [],
   "source": [
    "def image_to_text(image_file, text=None):\n",
    "    raw_image = Image.open(image_file).convert('RGB')\n",
    "\n",
    "    inputs = processor2(images=raw_image, text=text, return_tensors=\"pt\").to('cuda:0', torch.float16)\n",
    "\n",
    "    generated_ids = model2.generate(**inputs, max_length=50)\n",
    "    generated_text = processor2.batch_decode(generated_ids, skip_special_tokens=True)[0].strip()\n",
    "    return generated_text"
   ]
  },
  {
   "cell_type": "code",
   "execution_count": 5,
   "id": "8c9db290",
   "metadata": {
    "scrolled": true
   },
   "outputs": [
    {
     "name": "stderr",
     "output_type": "stream",
     "text": [
      "100%|█████████████████████████████████████████████████████████████████████| 27/27 [00:08<00:00,  3.23it/s]\n"
     ]
    }
   ],
   "source": [
    "from tqdm import tqdm\n",
    "import os\n",
    "\n",
    "prefix = 'jisoo'\n",
    "for image_file in tqdm(png_files):\n",
    "    save_file = image_file[:-3] + 'txt'\n",
    "    prompt = prefix + ', ' + image_to_text(image_file)\n",
    "    print(prompt)\n",
    "    with open(save_file, 'w') as f:\n",
    "        f.write(prompt)\n"
   ]
  },
  {
   "cell_type": "code",
   "execution_count": null,
   "id": "931f9434",
   "metadata": {},
   "outputs": [],
   "source": [
    "### text 확인"
   ]
  }
 ],
 "metadata": {
  "kernelspec": {
   "display_name": "ste",
   "language": "python",
   "name": "ste"
  },
  "language_info": {
   "codemirror_mode": {
    "name": "ipython",
    "version": 3
   },
   "file_extension": ".py",
   "mimetype": "text/x-python",
   "name": "python",
   "nbconvert_exporter": "python",
   "pygments_lexer": "ipython3",
   "version": "3.8.8"
  }
 },
 "nbformat": 4,
 "nbformat_minor": 5
}
