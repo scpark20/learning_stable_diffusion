{
 "cells": [
  {
   "cell_type": "code",
   "execution_count": 6,
   "id": "70dea067",
   "metadata": {},
   "outputs": [
    {
     "name": "stdout",
     "output_type": "stream",
     "text": [
      "0 Converted FULL_JPG-231111_ALO1295-c71fa11841c944e1bafcaff941a1710e.jpeg to PNG format.\n",
      ".DS_Store skip\n",
      "2 Converted Jiscoo.jpeg to PNG format.\n",
      "3 Converted AEN20240222002200315_03_i_P4.jpeg to PNG format.\n",
      "4 Converted 240502-JISOO-Instagram-Update-documents-5.jpeg to PNG format.\n",
      "5 Converted self-portrait_SS24%20Campaign_Jisoo_%C2%A9self-portrait_Yoon%20JiYong_01_PRESS%20(Clean).webp to PNG format.\n",
      "6 Converted image (1).png to PNG format.\n",
      "7 Converted BLACKPINK-Jisoo-GettyImages-1431033344.webp to PNG format.\n",
      "8 Converted news1210_GettyImages-1690053648.webp to PNG format.\n",
      "9 Converted + Weverse Gift (1024 × 800 px) (1024 × 732 px) (3).jpeg to PNG format.\n",
      "10 Converted Kim_Jisoo_in_July_2023_05_(cropped).jpeg to PNG format.\n",
      "11 Converted Kim_Jisoo_on_July_3,_2023_07.jpeg to PNG format.\n",
      "12 Converted hb2205-jisoo-01-004-1647419826.jpeg to PNG format.\n",
      "13 Converted 1343576728.webp to PNG format.\n",
      "14 Converted alo-yoga-jisoo-photos-q.webp to PNG format.\n",
      "15 Converted main-qimg-cb35868548780b89f8240338130f62e2.jpeg to PNG format.\n",
      "16 Converted jisoo-blackpink-flower.jpeg to PNG format.\n",
      "17 Converted blackpinks-jisoo.jpeg to PNG format.\n",
      "18 Converted blackpink-jisoo.jpeg to PNG format.\n",
      "19 Converted 367665968-1043122716604056-338-6755-5396-1698222857.jpeg to PNG format.\n",
      "20 Converted channels4_profile.jpeg to PNG format.\n",
      "21 Converted jisoo-3.jpeg to PNG format.\n"
     ]
    }
   ],
   "source": [
    "import os\n",
    "from PIL import Image\n",
    "\n",
    "def convert_images_to_png(source_dir, target_dir):\n",
    "    # Ensure target directory exists\n",
    "    if not os.path.exists(target_dir):\n",
    "        os.makedirs(target_dir)\n",
    "    \n",
    "    # Loop through all files in the source directory\n",
    "    for i, filename in enumerate(os.listdir(source_dir)):\n",
    "        # Check if the file is an image\n",
    "        if filename.lower().endswith(('.png', '.jpg', '.jpeg', '.bmp', '.gif', '.tiff', '.webp')):\n",
    "            # Open the image\n",
    "            img = Image.open(os.path.join(source_dir, filename))\n",
    "            # Get the file name without the extension\n",
    "            file_name_without_ext = os.path.splitext(filename)[0]\n",
    "            # Save the image as PNG in the target directory\n",
    "            img.save(os.path.join(target_dir, f'{i}.png'))\n",
    "            print(i, f'Converted {filename} to PNG format.')\n",
    "        else:\n",
    "            print(filename, 'skip')\n",
    "\n",
    "source_directory = 'data/jisoo_raw'  # 원본 디렉토리 경로\n",
    "target_directory = 'data/jisoo_png'  # 변환된 파일을 저장할 디렉토리 경로\n",
    "\n",
    "convert_images_to_png(source_directory, target_directory)\n"
   ]
  },
  {
   "cell_type": "code",
   "execution_count": null,
   "id": "57d2ad21",
   "metadata": {},
   "outputs": [],
   "source": []
  }
 ],
 "metadata": {
  "kernelspec": {
   "display_name": "ste",
   "language": "python",
   "name": "ste"
  },
  "language_info": {
   "codemirror_mode": {
    "name": "ipython",
    "version": 3
   },
   "file_extension": ".py",
   "mimetype": "text/x-python",
   "name": "python",
   "nbconvert_exporter": "python",
   "pygments_lexer": "ipython3",
   "version": "3.9.18"
  }
 },
 "nbformat": 4,
 "nbformat_minor": 5
}
